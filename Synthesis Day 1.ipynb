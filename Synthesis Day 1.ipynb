{
 "cells": [
  {
   "cell_type": "markdown",
   "id": "d10d79de",
   "metadata": {},
   "source": [
    "**SYNTHESIS DAY 1 ASSIGNMENT**\n",
    "\n",
    "This workbook will serve as your Synthesis Day 1 assignment in the class. Please complete the questions below and save a copy of your notebook as a PDF.\n",
    "\n",
    "Upload this PDF as your Synthesis Day 1 assignment. \n",
    "\n",
    "If you have questions raise your hand or use chat to contact your instructor for help.\n",
    "\n",
    "To begin, type your name into the following code block and run it. This will load a unique data set for you to analyze."
   ]
  },
  {
   "cell_type": "code",
   "execution_count": null,
   "id": "8737c8bc",
   "metadata": {},
   "outputs": [],
   "source": [
    "#replace my_name below with your full name, then run this codeblock.\n",
    "student_name=\"\"\n",
    "\n",
    "\n",
    "# Import useful packages\n",
    "import pandas\n",
    "!pip install tabulate\n",
    "import pandas\n",
    "import numpy as np\n",
    "from scipy import stats\n",
    "from tabulate import tabulate \n",
    "import matplotlib.pyplot as plt\n",
    "import matplotlib\n",
    "import matplotlib.pyplot as plt\n",
    "plt.rcParams.update({'font.size': 14})\n",
    "pandas.set_option('max_rows', 12)\n",
    "import random\n",
    "import numpy as np\n",
    "from scipy import stats\n",
    "import matplotlib.pyplot as plt\n",
    "import statsmodels.api as statsmodels # useful stats package with regression functions\n",
    "import seaborn as sns # very nice plotting package\n",
    "\n",
    "#identify studnets unique keyvalyes\n",
    "holder=[ord(char) for char in student_name.lower()]\n",
    "key=np.unique(np.array([item%6+3 for item in holder]))\n",
    "\n",
    "while len(key)<3:\n",
    "    key=np.unique(np.append(key, random.randint(3,10)))\n",
    "    \n",
    "key = np.append([0,1,2], key)\n",
    "\n",
    "# style settings\n",
    "sns.set(color_codes=True, font_scale = 1.2)\n",
    "sns.set_style(\"whitegrid\")\n",
    "\n",
    "# import and print data\n",
    "data = pandas.read_csv(\"https://gist.githubusercontent.com/Prof-Watson/9249cc59eb7be788994a40d35df6f1a1/raw/b2852387399d5e369064eb029884d7b55c50eada/worldhappiness2019.csv\")\n",
    "print('This student is using columns', key, '\\n' , 'here are your data values')\n",
    "data=data.iloc[:10,key]\n",
    "data"
   ]
  },
  {
   "cell_type": "markdown",
   "id": "d954987d",
   "metadata": {},
   "source": [
    "Use your uniquely selected data table printed above to answer the following questions. \n",
    "Please complete each of the questions below, and if additional time remains, use it to attempt the bonus question. "
   ]
  },
  {
   "cell_type": "markdown",
   "id": "73e2c28a",
   "metadata": {},
   "source": [
    "**Question 1** (#variable): Describe a scenario in which “Score” can be an independent variable. Could it be any other category of variable? Explain your reasoning."
   ]
  },
  {
   "cell_type": "markdown",
   "id": "6d4f563d",
   "metadata": {},
   "source": [
    "YOUR ANSWER HERE"
   ]
  },
  {
   "cell_type": "markdown",
   "id": "c92d15fc",
   "metadata": {},
   "source": [
    "**Question 2** (#compprogramdesign, #descriptivestats): Select one of your variables and find its mean, median, mode, and standard deviation by writing and running the codes in the code cells below. If you use a library function, you need to explain how it works with detailed comments.\n",
    "\n",
    "Note: Round your final answers up to 2 decimals."
   ]
  },
  {
   "cell_type": "markdown",
   "id": "7b33aeba",
   "metadata": {},
   "source": [
    "Variable name:\n",
    "Mean:\n",
    "Median:\n",
    "Mode:\n",
    "Standard deviation:"
   ]
  },
  {
   "cell_type": "code",
   "execution_count": null,
   "id": "d9e755c5",
   "metadata": {},
   "outputs": [],
   "source": [
    "def mean(my_data):\n",
    "    \"\"\"\n",
    "    calculates the mean of your data\n",
    "    \n",
    "    Input:\n",
    "    my_data: an array of numbers (floats)\n",
    "    \n",
    "    Output: a float that represents the mean of your data\n",
    "    \"\"\"\n",
    "    # YOUR CODE HERE"
   ]
  },
  {
   "cell_type": "code",
   "execution_count": null,
   "id": "9982f374",
   "metadata": {},
   "outputs": [],
   "source": [
    "def median(my_data):\n",
    "    \"\"\"\n",
    "    calculates the median of your data\n",
    "    \n",
    "    Input:\n",
    "    my_data: an array of numbers (floats)\n",
    "    \n",
    "    Output: a float that represents the median of your data\n",
    "    \"\"\"\n",
    "    # YOUR CODE HERE"
   ]
  },
  {
   "cell_type": "code",
   "execution_count": null,
   "id": "e820ef5d",
   "metadata": {},
   "outputs": [],
   "source": [
    "def mode(my_data):\n",
    "    \"\"\"\n",
    "    calculates the mode of your data\n",
    "    \n",
    "    Input:\n",
    "    my_data: an array of numbers (floats)\n",
    "    \n",
    "    Output: a flaot that represents the mode of your data\n",
    "    \"\"\"\n",
    "    # YOUR CODE HERE"
   ]
  },
  {
   "cell_type": "code",
   "execution_count": null,
   "id": "1e5832a0",
   "metadata": {},
   "outputs": [],
   "source": [
    "def standard_deviation(my_data):\n",
    "    \"\"\"\n",
    "    calculates the standard deviation of your data\n",
    "    \n",
    "    Input:\n",
    "    my_data: an array of numbers (floats)\n",
    "    \n",
    "    Output: a float that represents the standard deviation of your data\n",
    "    \"\"\"\n",
    "    # YOUR CODE HERE"
   ]
  },
  {
   "cell_type": "markdown",
   "id": "58eeaf41",
   "metadata": {},
   "source": [
    "**Question 3** (#Visualizations):\n",
    "For the same variable you selected above, create a histogram and properly format your figure."
   ]
  },
  {
   "cell_type": "markdown",
   "id": "55735b66",
   "metadata": {},
   "source": [
    "YOUR ANSWER HERE"
   ]
  },
  {
   "cell_type": "code",
   "execution_count": null,
   "id": "9fa18082",
   "metadata": {},
   "outputs": [],
   "source": [
    "#Your code here for histogram"
   ]
  },
  {
   "cell_type": "markdown",
   "id": "53ee2697",
   "metadata": {},
   "source": [
    "**Question 4** (#descriptivestats, #Quantcommunication, #Visualizations): Interpret the descriptive stats: \n",
    "\n",
    "What can you say about the neighborhood based on these values?\n",
    "Is the distribution skewed? \n",
    "Is your visualization in agreement with the descriptive statistics? \n",
    "Explain."
   ]
  },
  {
   "cell_type": "markdown",
   "id": "f444383c",
   "metadata": {},
   "source": [
    "YOUR ANSWER HERE"
   ]
  },
  {
   "cell_type": "markdown",
   "id": "61722479",
   "metadata": {},
   "source": [
    "**(Optional) Question 5** (#probability):\n",
    "\n",
    "Find the probability that a coin lands on heads less than or equal to 45 times during 100 flips."
   ]
  },
  {
   "cell_type": "markdown",
   "id": "00b6aec1",
   "metadata": {},
   "source": [
    "YOUR ANSWER HERE"
   ]
  },
  {
   "cell_type": "code",
   "execution_count": null,
   "id": "ab219788",
   "metadata": {},
   "outputs": [],
   "source": [
    "#OPTIONAL CODE BLOCK"
   ]
  }
 ],
 "metadata": {
  "kernelspec": {
   "display_name": "Python 3",
   "language": "python",
   "name": "python3"
  },
  "language_info": {
   "codemirror_mode": {
    "name": "ipython",
    "version": 3
   },
   "file_extension": ".py",
   "mimetype": "text/x-python",
   "name": "python",
   "nbconvert_exporter": "python",
   "pygments_lexer": "ipython3",
   "version": "3.8.8"
  }
 },
 "nbformat": 4,
 "nbformat_minor": 5
}
