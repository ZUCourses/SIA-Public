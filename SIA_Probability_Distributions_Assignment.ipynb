{
 "cells": [
  {
   "cell_type": "markdown",
   "id": "bb4bc625",
   "metadata": {},
   "source": [
    "Before you turn this problem in, make sure everything runs as expected. First, **restart the kernel** (in the menubar, select Kernel$\\rightarrow$Restart) and then **run all cells** (in the menubar, select Cell$\\rightarrow$Run All).\n",
    "\n",
    "Make sure you fill in any place that says `YOUR CODE HERE` or \"YOUR ANSWER HERE\", as well as your name and collaborators below:"
   ]
  },
  {
   "cell_type": "code",
   "execution_count": 3,
   "id": "04ea97b8",
   "metadata": {},
   "outputs": [],
   "source": [
    "NAME = \"\"\n",
    "COLLABORATORS = \"\""
   ]
  },
  {
   "cell_type": "markdown",
   "id": "b86f3ceb",
   "metadata": {},
   "source": [
    "# General Instructions\n",
    "\n",
    "1 - Start by downloading this jupyter notebook to your local machine\n",
    "\n",
    "2 - Open a tab in your browser and type https://colab.research.google.com/\n",
    "\n",
    "3 - This will open a small window. Choose the last option on the upper menu, \"Upload\". Then choose the jupyter notebook you have saved in step 1\n",
    "\n",
    "4 - You can start working on your assignment by answering the questions in the corresponding cells.\n",
    "\n",
    "5 - If you have any questions , please reach out to your instructor and TAs"
   ]
  },
  {
   "cell_type": "markdown",
   "id": "855f8ded",
   "metadata": {},
   "source": [
    "# Statistics- Correlation Assignment\n",
    "# Correlation and Regression\n",
    "\n",
    "This is a problem set assignment with a location-based component. You will solve problems related to probability, simulation, and distributions within the context of sports. Sports can be considered random systems due to elements of chance and luck, serving as a fun playground for probability and statistics analyses. Any statistics inferred about players or teams require probabilities obtained through empirical evidence. For this purpose, there is a location-based task: you will attend a sporting event in the city or watch one on TV and obtain some simple data through observation. Together with the set problems below, you should be inspired to perform your own probability analysis based on the data.\n",
    "\n",
    "This is an individual assignment. We will be checking for similarities among submissions and will take plagiarism seriously. However, you may choose to attend a sporting event with your fellow students and collect data together. We recommend that you choose different variables to measure.\n",
    "\n",
    "\n",
    "**NOTES:**\n",
    "\n",
    "You must upload two files:\n",
    "* **Primary Resource**: A PDF of your entire assignment. Run all cells before converting the notebook to a PDF, and double check to make sure that the PDF is complete with all sections visible. Email attachments will not be accepted. If you’re having difficulty converting your notebook to a PDF, try the tips available [here](https://docs.google.com/document/d/15dX89FOEoVEPuUNhY3PDloJ2qmQ63RQ_5l51zMEAlYQ/edit?usp=sharing)\n",
    "\n",
    "* **Secondary Resource**: A zipped folder containing the .ipynb file and your original photo files."
   ]
  },
  {
   "cell_type": "markdown",
   "id": "66939a60",
   "metadata": {},
   "source": [
    "## Part 1: Location-based task\n",
    "\n",
    "* Pick a sporting event to attend within 1 hours journey of your home. It can be ANY sport at ANY level. If it is not possible to attend a sporting event, you can watch one on TV.\n",
    "* Pick a random variable(s) to measure at the game. For example, you could keep track of the number of shots made and shots missed at a basketball game. You will use the data collected to calculate probabilities in part 5 of the analysis (see below). Try to be accurate, but the perfect accuracy of the data is not critical to your analysis and should serve as an inspiration to construct your own probability problem. \n",
    "* Take a photo of yourself at the game (use the cell below to upload the photo and check this [link](https://docs.google.com/document/d/1OTLUMXG8NWzJkgZ5MtpjHpB45gC1IAzyofaC5_-WwPg/edit?usp=sharing\\) for instructions on how to upload images)."
   ]
  },
  {
   "cell_type": "code",
   "execution_count": null,
   "id": "9a87e458",
   "metadata": {},
   "outputs": [],
   "source": [
    "# YOUR CODE HERE\n",
    "raise NotImplementedError()"
   ]
  },
  {
   "cell_type": "markdown",
   "id": "7f44f605",
   "metadata": {},
   "source": [
    "## Part 2: Analysis\n",
    "Solve the following problems, one of which you will write yourself! Full solutions require clear steps with written justifications as well as an interpretation of the result. There are multiple approaches to solving these problems; you are encouraged to try solving the problems using Python. The scipy.stats library includes useful tools such as a z-score calculator"
   ]
  },
  {
   "cell_type": "markdown",
   "id": "dbf5e52d",
   "metadata": {},
   "source": [
    "### 1. Volleyball [#probability]: \n",
    "“There’s only a 35% chance that the team will win the point when they are serving.” Contrast how Frequentists and Bayesians would interpret this statement (<200 words)."
   ]
  },
  {
   "cell_type": "markdown",
   "id": "6a2d23f8",
   "metadata": {},
   "source": [
    "YOUR ANSWER HERE"
   ]
  },
  {
   "cell_type": "markdown",
   "id": "ffb56dc4",
   "metadata": {},
   "source": [
    "### 2. Two Girls in the Family [#probability, #algorithms]: \n",
    "Conduct a simulation to find the experimental probability of having exactly two girls from five births. (Suggestions: Coin flip is an accurate representation of the 50% chance of having a boy, or a girl, on any birth. For each family you can simulate five coin tosses. You can also use a single die to simulate the birth of a boy or a girl. An even number, for example, can represent a girl, and an odd number a boy.) To organize your results, put an X in the box when the family has exactly two girls.\n",
    "\n",
    "![My Image](images/girls.png)\n",
    "\n",
    "**2.1** What percent of families have exactly 2 girls?"
   ]
  },
  {
   "cell_type": "code",
   "execution_count": null,
   "id": "0e65a295",
   "metadata": {},
   "outputs": [],
   "source": [
    "# YOUR CODE HERE\n",
    "raise NotImplementedError()"
   ]
  },
  {
   "cell_type": "markdown",
   "id": "012b060f",
   "metadata": {},
   "source": [
    "YOUR ANSWER HERE"
   ]
  },
  {
   "cell_type": "markdown",
   "id": "209c25d9",
   "metadata": {},
   "source": [
    "**2.2** What is the experimental probability of having exactly two girls from five births?"
   ]
  },
  {
   "cell_type": "markdown",
   "id": "97376380",
   "metadata": {},
   "source": [
    "YOUR ANSWER HERE"
   ]
  },
  {
   "cell_type": "markdown",
   "id": "f3c7d964",
   "metadata": {},
   "source": [
    "**2.3** Increase the number of simulations. Predict the theoretical probability of having exactly two girls from five births."
   ]
  },
  {
   "cell_type": "code",
   "execution_count": null,
   "id": "2eff6f12",
   "metadata": {},
   "outputs": [],
   "source": [
    "# YOUR CODE HERE\n",
    "raise NotImplementedError()"
   ]
  },
  {
   "cell_type": "markdown",
   "id": "b6278667",
   "metadata": {},
   "source": [
    "YOUR ANSWER HERE"
   ]
  },
  {
   "cell_type": "markdown",
   "id": "d9e585a2",
   "metadata": {},
   "source": [
    "### 3. Cricket [#distributions]: \n",
    "A batsman is brought to a cricket club on the assumption that he will have a 0.300 run-scoring ball average based on his past performance. (Run-scoring ball average is the ratio of run-scoring balls to the total number of balls a batsman faces.) In the first year, he faced 400 balls during the season and his run-scoring ball average was .348. Assume that his run-scoring balls can be considered Bernoulli trials with probability 0.3 for success. Give both qualitative and quantitative arguments about what is likely to happen to the player’s run-scoring ball performance next season. Be sure to discuss the merits of any assumptions that are made."
   ]
  },
  {
   "cell_type": "markdown",
   "id": "cd8b85f9",
   "metadata": {},
   "source": [
    "YOUR ANSWER HERE"
   ]
  },
  {
   "cell_type": "markdown",
   "id": "c7c69038",
   "metadata": {},
   "source": [
    "### 4. Ski jumping [#distributions]: \n",
    "The distribution of all observed competitive ski jumps in Zakopane, Poland during 2010-2016 is nearly normal with an average jump distance of 120.5 m and a standard deviation of 10 m.\n",
    "\n",
    "**4.1** What is the probability that the next random jumper will jump further than 135 m?"
   ]
  },
  {
   "cell_type": "markdown",
   "id": "3ab60e5e",
   "metadata": {},
   "source": [
    "YOUR ANSWER HERE"
   ]
  },
  {
   "cell_type": "markdown",
   "id": "d46fb37a",
   "metadata": {},
   "source": [
    "**4.2** What is the probability that the mean distance of the next 15 random jumpers is further than 135 m?"
   ]
  },
  {
   "cell_type": "markdown",
   "id": "89fed510",
   "metadata": {},
   "source": [
    "YOUR ANSWER HERE"
   ]
  },
  {
   "cell_type": "markdown",
   "id": "9f16cbc1",
   "metadata": {},
   "source": [
    "**4.3** Could you still estimate the probabilities above if the distribution was actually negatively skewed by the presence of some shorter distance jumps?"
   ]
  },
  {
   "cell_type": "markdown",
   "id": "fb449489",
   "metadata": {},
   "source": [
    "YOUR ANSWER HERE"
   ]
  },
  {
   "cell_type": "markdown",
   "id": "9b52b5d4",
   "metadata": {},
   "source": [
    "### 5. Construct your own problem: [#probability, #distributions, #algorithms] \n",
    "Write (and solve) a probability problem based on the data collected at the sporting event you attended. The analysis should contain multiple parts, enough to demonstrate deep knowledge of all three LOs: #probability, #distributions, and #algorithms. It must also involve computations done both analytically and via simulation. Note that the same problem can be approached using multiple techniques. First, discuss the context: explain the game you attended or watched and what you measured. Also, discuss all assumptions made and any potential flaws in your analysis. If you’d like ideas on what you could calculate, use textbook problems and class activities for inspiration, and brainstorm with your classmates or your professor.\n",
    "\n",
    "**Notes:**\n",
    "\n",
    "* The calculation may require some information not obtained in your data collection. You can make additional assumptions as long as the problem still uses your observation in some way.\n",
    "* Your problem and solution can have multiple parts but should not be much longer than the model problem provided.\n",
    "* Choose an appropriate level of difficulty. The problem should be solvable by your classmates, and WILL be solved by your classmates in class! So, if your analysis involves a distribution or concept not covered in class, include an APA citation as well as a description of the distribution and its relevance for the problem.\n",
    "* Don’t forget to include a photo of you at the game!"
   ]
  },
  {
   "cell_type": "markdown",
   "id": "73f8eed2",
   "metadata": {},
   "source": [
    "YOUR ANSWER HERE"
   ]
  },
  {
   "cell_type": "code",
   "execution_count": null,
   "id": "9d09ba24",
   "metadata": {},
   "outputs": [],
   "source": [
    "# YOUR CODE HERE\n",
    "raise NotImplementedError()"
   ]
  },
  {
   "cell_type": "markdown",
   "id": "091e9fbd",
   "metadata": {},
   "source": [
    "### PYTHON TIPS\n",
    "Part of the purpose of this assignment is to expose you to and give you practice in using tools for working with data in Python. The following may be useful.\n",
    "\n",
    "* Participating actively in the weekly structured study sessions will help prepare you to complete the Python portion of this assignment. The weekly session material can be found here.\n",
    "* Your peer tutors and professors are here to help! Make use of office hours for assistance.\n",
    "* For other resources to learn Numpy, you can read or watch any of the tutorials found online, such as https://docs.scipy.org/doc/numpy/user/quickstart.html. You do not need to learn everything about this library, just the basics of arrays and reading their entries.\n",
    "* To learn to plot the necessary figures, read as much of http://matplotlib.org/users/beginner.html as is necessary to perform the required tasks. Additionally, there is an enormous amount of freely available instructional material, with examples, that can be found online.\n",
    "* As a best practice, your graphics in Jupyter notebooks should be ‘inline.’ If your version does not do this automatically, include %matplotlib inline at the top of your script.\n",
    "* Reminder: no matter what, your code needs comments. Read https://www.digitalocean.com/community/tutorials/how-to-write-comments-in-python-3 for further guidance."
   ]
  },
  {
   "cell_type": "code",
   "execution_count": null,
   "id": "63f8fef3",
   "metadata": {},
   "outputs": [],
   "source": []
  }
 ],
 "metadata": {
  "kernelspec": {
   "display_name": "Python 3",
   "language": "python",
   "name": "python3"
  },
  "language_info": {
   "codemirror_mode": {
    "name": "ipython",
    "version": 3
   },
   "file_extension": ".py",
   "mimetype": "text/x-python",
   "name": "python",
   "nbconvert_exporter": "python",
   "pygments_lexer": "ipython3",
   "version": "3.8.8"
  }
 },
 "nbformat": 4,
 "nbformat_minor": 5
}
