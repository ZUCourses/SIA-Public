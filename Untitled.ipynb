{
 "cells": [
  {
   "cell_type": "code",
   "execution_count": 1,
   "id": "29eb0c85",
   "metadata": {},
   "outputs": [
    {
     "name": "stdout",
     "output_type": "stream",
     "text": [
      "{'Aisha': 25, 'Omar': 15, 'Alia': 17, 'Fatima': 65}\n"
     ]
    }
   ],
   "source": [
    "age_dictionary={}\n",
    "age_dictionary[\"Aisha\"] = 25\n",
    "age_dictionary[\"Omar\"] = 15\n",
    "age_dictionary[\"Alia\"] = 17\n",
    "age_dictionary[\"Fatima\"] = 65\n",
    "print(age_dictionary)\n",
    "\n",
    "\n",
    "\n"
   ]
  },
  {
   "cell_type": "code",
   "execution_count": 5,
   "id": "9d91ddf8",
   "metadata": {},
   "outputs": [
    {
     "name": "stdout",
     "output_type": "stream",
     "text": [
      "{'Aisha': 13, 'Omar': 17, 'Alia': 17, 'Fatima': 65, 'Hassan': 25}\n"
     ]
    }
   ],
   "source": [
    "age_dictionary[\"Omar\"] = 17\n",
    "age_dictionary[\"Hassan\"] = 25\n",
    "print(age_dictionary)\n",
    "\n",
    "\n",
    "\n",
    "\n"
   ]
  },
  {
   "cell_type": "code",
   "execution_count": 6,
   "id": "d945a4da",
   "metadata": {},
   "outputs": [
    {
     "name": "stdout",
     "output_type": "stream",
     "text": [
      "{'Aisha': 13, 'Omar': 17, 'Alia': 17, 'Hassan': 25}\n"
     ]
    }
   ],
   "source": [
    "del age_dictionary[\"Fatima\"]\n",
    "print (age_dictionary)"
   ]
  },
  {
   "cell_type": "code",
   "execution_count": 8,
   "id": "08c87f31",
   "metadata": {},
   "outputs": [
    {
     "name": "stdout",
     "output_type": "stream",
     "text": [
      "13\n"
     ]
    }
   ],
   "source": [
    "print (age_dictionary[\"Aisha\"])\n",
    "\n"
   ]
  },
  {
   "cell_type": "code",
   "execution_count": 9,
   "id": "c1e7603d",
   "metadata": {},
   "outputs": [
    {
     "name": "stdout",
     "output_type": "stream",
     "text": [
      "Aisha\n",
      "Omar\n",
      "Alia\n",
      "Hassan\n"
     ]
    }
   ],
   "source": [
    "for key in age_dictionary:\n",
    "    print (key)"
   ]
  },
  {
   "cell_type": "code",
   "execution_count": 10,
   "id": "a0c621db",
   "metadata": {},
   "outputs": [
    {
     "name": "stdout",
     "output_type": "stream",
     "text": [
      "{'Aisha': 17, 'Omar': 21, 'Alia': 21, 'Hassan': 29}\n"
     ]
    }
   ],
   "source": [
    "for key in age_dictionary:\n",
    "    age_dictionary[key]=age_dictionary[key]+4\n",
    "print (age_dictionary)"
   ]
  },
  {
   "cell_type": "code",
   "execution_count": 34,
   "id": "f00386ce",
   "metadata": {},
   "outputs": [
    {
     "name": "stdout",
     "output_type": "stream",
     "text": [
      "{'Flashlights': 4, 'Tents': 5, 'Bags of Sausage': 12, 'Ramen Packs': 7, 'Water Bottles': 7, 'Fire-starter Kits': 3, 'Climbing Gloves': 12, 'Climbing Shoes': 12, 'Duffel Bag': 1, 'Laptop': 5, 'Pen': 1, 'Pencils': 5}\n"
     ]
    }
   ],
   "source": [
    "items_list = ['Flashlights', 'Tents', \"Bags of Sausage\", \"Ramen Packs\", \"Water Bottles\", \"Fire-starter Kits\", 'Climbing Gloves',\n",
    "             'Climbing Shoes', 'Duffel Bag', 'Laptop', \"Pen\", \"Pencils\"]\n",
    "number_needed = [4, 5, 12, 7, 7, 3, 12, 12, 1, 5, 1, 5]\n",
    "dictionary = dict(zip(items_list, number_needed))\n",
    "print(dictionary)"
   ]
  },
  {
   "cell_type": "code",
   "execution_count": 26,
   "id": "53efbdc3",
   "metadata": {},
   "outputs": [
    {
     "data": {
      "text/plain": [
       "['Bags of Sausage', 'Climbing Gloves', 'Climbing Shoes']"
      ]
     },
     "execution_count": 26,
     "metadata": {},
     "output_type": "execute_result"
    }
   ],
   "source": [
    "def findItems(dictionary, n):\n",
    "    items_list = []\n",
    "    for key in dictionary.keys():\n",
    "        if dictionary[key] == n:\n",
    "            items_list.append(key)\n",
    "    return (items_list)\n",
    "findItems(dictionary, 12)"
   ]
  },
  {
   "cell_type": "raw",
   "id": "5513175d",
   "metadata": {},
   "source": [
    "dictionary= {'Flashlights': 4, 'Tents': 5, 'Bags of Sausage': 12, 'Ramen Packs': 7, 'Water Bottles': 7, 'Fire-starter Kits': 3, 'Climbing Gloves': 12, 'Climbing Shoes': 12, 'Duffel Bag': 1, 'Laptop': 5, 'Pen': 1, 'Pencils': 5}\n",
    "def findItems(dictionary, n):\n",
    "for key in dictionary:\n",
    "        if dictionary[key] != n:\n",
    "            dictionary.pop[key]\n",
    "    return (dictionary)\n",
    "print(findItems(dictionary, 4))"
   ]
  },
  {
   "cell_type": "code",
   "execution_count": 7,
   "id": "8fb289fa",
   "metadata": {},
   "outputs": [
    {
     "data": {
      "text/plain": [
       "{'Flashlights': 4,\n",
       " 'Tents': 5,\n",
       " 'Bags of Sausage': 12,\n",
       " 'Ramen Packs': 7,\n",
       " 'Water Bottles': 7,\n",
       " 'Fire-starter Kits': 3,\n",
       " 'Climbing Gloves': 12,\n",
       " 'Climbing Shoes': 12,\n",
       " 'Duffel Bag': 1,\n",
       " 'Laptop': 5,\n",
       " 'Pen': 1,\n",
       " 'Pencils': 5}"
      ]
     },
     "execution_count": 7,
     "metadata": {},
     "output_type": "execute_result"
    }
   ],
   "source": [
    "dictionary= {'Flashlights': 4, 'Tents': 5, 'Bags of Sausage': 12, 'Ramen Packs': 7, 'Water Bottles': 7, 'Fire-starter Kits': 3, 'Climbing Gloves': 12, 'Climbing Shoes': 12, 'Duffel Bag': 1, 'Laptop': 5, 'Pen': 1, 'Pencils': 5}\n",
    "def findItems(dictionary, n):\n",
    "    for key in dictionary:\n",
    "        if dictionary[key] != n:\n",
    "            dictionary.pop(key)\n",
    "        return (dictionary)\n",
    "findItems(dictionary, 4)"
   ]
  },
  {
   "cell_type": "code",
   "execution_count": 12,
   "id": "fee68320",
   "metadata": {},
   "outputs": [
    {
     "name": "stdout",
     "output_type": "stream",
     "text": [
      "Fire-starter Kits\n"
     ]
    }
   ],
   "source": [
    "dictionary= {'Flashlights': 4, 'Tents': 5, 'Bags of Sausage': 12, 'Ramen Packs': 7, 'Water Bottles': 7, 'Fire-starter Kits': 3, 'Climbing Gloves': 12, 'Climbing Shoes': 12, 'Duffel Bag': 1, 'Laptop': 5, 'Pen': 1, 'Pencils': 5}\n",
    "def findItems(dictionary, n):\n",
    "    for key in dictionary:\n",
    "        if dictionary[key] == n:\n",
    "            print (key)\n",
    "findItems(dictionary, 3)\n",
    "\n"
   ]
  },
  {
   "cell_type": "code",
   "execution_count": 13,
   "id": "93a341d3",
   "metadata": {},
   "outputs": [
    {
     "name": "stdout",
     "output_type": "stream",
     "text": [
      "{'Flashlights': 4, 'Tents': 5, 'Bags of Sausage': 12, 'Ramen Packs': 7, 'Water Bottles': 7, 'Fire-starter Kits': 3, 'Climbing Gloves': 12, 'Climbing Shoes': 12, 'Duffel Bag': 1, 'Laptop': 5, 'Pen': 1, 'Pencils': 5}\n"
     ]
    }
   ],
   "source": [
    "items_list = ['Flashlights', 'Tents', \"Bags of Sausage\", \"Ramen Packs\", \"Water Bottles\", \"Fire-starter Kits\", 'Climbing Gloves',\n",
    "             'Climbing Shoes', 'Duffel Bag', 'Laptop', \"Pen\", \"Pencils\"]\n",
    "number_needed = [4, 5, 12, 7, 7, 3, 12, 12, 1, 5, 1, 5]\n",
    "shoppingDict = dict(zip(items_list, number_needed))\n",
    "print(shoppingDict)"
   ]
  },
  {
   "cell_type": "code",
   "execution_count": 19,
   "id": "f2f846f5",
   "metadata": {},
   "outputs": [
    {
     "name": "stdout",
     "output_type": "stream",
     "text": [
      "{'Flashlights': 4, 'Tents': 5, 'Bags of Sausage': 12, 'Ramen Packs': 7, 'Water Bottles': 7, 'Fire-starter Kits': 3, 'Climbing Gloves': 12, 'Climbing Shoes': 12, 'Duffel Bag': 1, 'Laptop': 5, 'Pen': 1, 'Pencils': 5}\n"
     ]
    }
   ],
   "source": [
    "shop= {'Flashlights': 4, 'Tents': 5, 'Bags of Sausage': 12, 'Ramen Packs': 7, 'Water Bottles': 7, 'Fire-starter Kits': 3, 'Climbing Gloves': 12, 'Climbing Shoes': 12, 'Duffel Bag': 1, 'Laptop': 5, 'Pen': 1, 'Pencils': 5}\n",
    "print (shop)"
   ]
  },
  {
   "cell_type": "code",
   "execution_count": 16,
   "id": "ffe71638",
   "metadata": {},
   "outputs": [
    {
     "name": "stdout",
     "output_type": "stream",
     "text": [
      "['zeynep']\n"
     ]
    }
   ],
   "source": [
    "print(\"zeynep\".split())\n"
   ]
  },
  {
   "cell_type": "code",
   "execution_count": 17,
   "id": "5d650b48",
   "metadata": {},
   "outputs": [
    {
     "data": {
      "text/plain": [
       "['z', 'e', 'y', 'n', 'e', 'p']"
      ]
     },
     "execution_count": 17,
     "metadata": {},
     "output_type": "execute_result"
    }
   ],
   "source": [
    "list(\"zeynep\")"
   ]
  },
  {
   "cell_type": "code",
   "execution_count": 18,
   "id": "a6d6abec",
   "metadata": {},
   "outputs": [
    {
     "name": "stdout",
     "output_type": "stream",
     "text": [
      "{'n', 'a', 'b'}\n"
     ]
    }
   ],
   "source": [
    "print(set(\"banana\"))"
   ]
  },
  {
   "cell_type": "code",
   "execution_count": 22,
   "id": "88ed2441",
   "metadata": {},
   "outputs": [
    {
     "name": "stdout",
     "output_type": "stream",
     "text": [
      "['Bags of Sausage', 'Climbing Gloves', 'Climbing Shoes', 'Duffel Bag', 'Fire-starter Kits', 'Flashlights', 'Laptop', 'Pen', 'Pencils', 'Ramen Packs', 'Tents', 'Water Bottles']\n"
     ]
    }
   ],
   "source": [
    "print(sorted(shop))"
   ]
  },
  {
   "cell_type": "code",
   "execution_count": 2,
   "id": "740c462a",
   "metadata": {},
   "outputs": [],
   "source": [
    "mylist=[\"apple\", \"pear\"]\n",
    "for i in mylist:\n",
    "    if i[1] ==\"a\":\n",
    "        print (i)"
   ]
  },
  {
   "cell_type": "code",
   "execution_count": 4,
   "id": "7eaa3913",
   "metadata": {},
   "outputs": [
    {
     "ename": "SyntaxError",
     "evalue": "invalid syntax (<ipython-input-4-fa4709aecd9d>, line 5)",
     "output_type": "error",
     "traceback": [
      "\u001b[0;36m  File \u001b[0;32m\"<ipython-input-4-fa4709aecd9d>\"\u001b[0;36m, line \u001b[0;32m5\u001b[0m\n\u001b[0;31m    integer = int(input(Please enter a number:))\u001b[0m\n\u001b[0m                               ^\u001b[0m\n\u001b[0;31mSyntaxError\u001b[0m\u001b[0;31m:\u001b[0m invalid syntax\n"
     ]
    }
   ],
   "source": [
    "integer = int(input(\"Please enter a number:\"))\n",
    "while integer == \"stop\":\n",
    "    mylist=[]\n",
    "    append.mylist(integer)\n",
    "    integer = int(input(Please enter a number:))\n",
    "print (max.mylist())\n"
   ]
  },
  {
   "cell_type": "code",
   "execution_count": 1,
   "id": "8820894c",
   "metadata": {},
   "outputs": [
    {
     "name": "stdout",
     "output_type": "stream",
     "text": [
      "Enter a password: hdgskfds\n"
     ]
    },
    {
     "ename": "AttributeError",
     "evalue": "'list' object has no attribute 'isdigit'",
     "output_type": "error",
     "traceback": [
      "\u001b[0;31m---------------------------------------------------------------------------\u001b[0m",
      "\u001b[0;31mAttributeError\u001b[0m                            Traceback (most recent call last)",
      "\u001b[0;32m<ipython-input-1-a891ee360d85>\u001b[0m in \u001b[0;36m<module>\u001b[0;34m\u001b[0m\n\u001b[1;32m     13\u001b[0m     \u001b[0;32melse\u001b[0m\u001b[0;34m:\u001b[0m\u001b[0;34m\u001b[0m\u001b[0;34m\u001b[0m\u001b[0m\n\u001b[1;32m     14\u001b[0m         \u001b[0mprint\u001b[0m\u001b[0;34m(\u001b[0m\u001b[0;34m\"Your password seems fine\"\u001b[0m\u001b[0;34m)\u001b[0m\u001b[0;34m\u001b[0m\u001b[0;34m\u001b[0m\u001b[0m\n\u001b[0;32m---> 15\u001b[0;31m \u001b[0mvalidate\u001b[0m\u001b[0;34m(\u001b[0m\u001b[0;34m)\u001b[0m\u001b[0;34m\u001b[0m\u001b[0;34m\u001b[0m\u001b[0m\n\u001b[0m",
      "\u001b[0;32m<ipython-input-1-a891ee360d85>\u001b[0m in \u001b[0;36mvalidate\u001b[0;34m()\u001b[0m\n\u001b[1;32m      5\u001b[0m         \u001b[0;32mif\u001b[0m \u001b[0;32mnot\u001b[0m \u001b[0;34m(\u001b[0m\u001b[0mlen\u001b[0m\u001b[0;34m(\u001b[0m\u001b[0mpassword\u001b[0m\u001b[0;34m)\u001b[0m \u001b[0;34m>=\u001b[0m \u001b[0;36m6\u001b[0m \u001b[0;32mand\u001b[0m \u001b[0mlen\u001b[0m\u001b[0;34m(\u001b[0m\u001b[0mpassword\u001b[0m\u001b[0;34m)\u001b[0m\u001b[0;34m)\u001b[0m \u001b[0;34m<=\u001b[0m \u001b[0;36m20\u001b[0m\u001b[0;34m:\u001b[0m\u001b[0;34m\u001b[0m\u001b[0;34m\u001b[0m\u001b[0m\n\u001b[1;32m      6\u001b[0m             \u001b[0mprint\u001b[0m\u001b[0;34m(\u001b[0m\u001b[0;34m\"Make sure your password is at least 6 letters\"\u001b[0m\u001b[0;34m)\u001b[0m\u001b[0;34m\u001b[0m\u001b[0;34m\u001b[0m\u001b[0m\n\u001b[0;32m----> 7\u001b[0;31m         \u001b[0;32melif\u001b[0m \u001b[0;32mnot\u001b[0m \u001b[0mpassword\u001b[0m\u001b[0;34m.\u001b[0m\u001b[0misdigit\u001b[0m\u001b[0;34m(\u001b[0m\u001b[0;34m)\u001b[0m\u001b[0;34m:\u001b[0m\u001b[0;34m\u001b[0m\u001b[0;34m\u001b[0m\u001b[0m\n\u001b[0m\u001b[1;32m      8\u001b[0m             \u001b[0mprint\u001b[0m\u001b[0;34m(\u001b[0m\u001b[0;34m\"Make sure your password has a number in it\"\u001b[0m\u001b[0;34m)\u001b[0m\u001b[0;34m\u001b[0m\u001b[0;34m\u001b[0m\u001b[0m\n\u001b[1;32m      9\u001b[0m         \u001b[0;32melif\u001b[0m \u001b[0;32mnot\u001b[0m \u001b[0mpassword\u001b[0m\u001b[0;34m.\u001b[0m\u001b[0misupper\u001b[0m\u001b[0;34m(\u001b[0m\u001b[0;34m)\u001b[0m\u001b[0;34m:\u001b[0m\u001b[0;34m\u001b[0m\u001b[0;34m\u001b[0m\u001b[0m\n",
      "\u001b[0;31mAttributeError\u001b[0m: 'list' object has no attribute 'isdigit'"
     ]
    }
   ],
   "source": [
    "def validate():\n",
    "    while True:\n",
    "        password = input(\"Enter a password: \")\n",
    "        password=list(password)\n",
    "        if not (len(password) >= 6 and len(password)) <= 20:\n",
    "            print(\"Make sure your password is at least 6 letters\")\n",
    "        elif not password.isdigit():\n",
    "            print(\"Make sure your password has a number in it\")\n",
    "        elif not password.isupper(): \n",
    "            print(\"Make sure your password has an uppercase letter in it\")\n",
    "        elif not password.islower(): \n",
    "            print(\"Make sure your password has a lowercase letter in it\")\n",
    "    else:\n",
    "        print(\"Your password seems fine\")\n",
    "validate()"
   ]
  },
  {
   "cell_type": "code",
   "execution_count": null,
   "id": "f56f79f0",
   "metadata": {},
   "outputs": [],
   "source": []
  },
  {
   "cell_type": "code",
   "execution_count": 4,
   "id": "b7d3bb98",
   "metadata": {},
   "outputs": [
    {
     "name": "stdout",
     "output_type": "stream",
     "text": [
      "apple\n"
     ]
    }
   ],
   "source": [
    "mylist=[\"apple\", \"pear\"]\n",
    "for i in mylist:\n",
    "    if i[0] ==\"a\":\n",
    "        print (i)"
   ]
  },
  {
   "cell_type": "code",
   "execution_count": 5,
   "id": "be36711c",
   "metadata": {},
   "outputs": [],
   "source": [
    "lloyd = {\n",
    "  \"name\": \"Lloyd\",\n",
    "  \"homework\": [90.0,97.0,75.0,92.0],\n",
    "  \"quizzes\": [88.0,40.0,94.0],\n",
    "  \"tests\": [75.0,90.0]\n",
    "}"
   ]
  },
  {
   "cell_type": "code",
   "execution_count": 6,
   "id": "48211284",
   "metadata": {},
   "outputs": [
    {
     "name": "stdout",
     "output_type": "stream",
     "text": [
      "{'name': 'Lloyd', 'homework': [90.0, 97.0, 75.0, 92.0], 'quizzes': [88.0, 40.0, 94.0], 'tests': [75.0, 90.0]}\n"
     ]
    }
   ],
   "source": [
    "print(lloyd)"
   ]
  },
  {
   "cell_type": "code",
   "execution_count": 10,
   "id": "d7658603",
   "metadata": {},
   "outputs": [
    {
     "ename": "TypeError",
     "evalue": "'type' object is not subscriptable",
     "output_type": "error",
     "traceback": [
      "\u001b[0;31m---------------------------------------------------------------------------\u001b[0m",
      "\u001b[0;31mTypeError\u001b[0m                                 Traceback (most recent call last)",
      "\u001b[0;32m<ipython-input-10-a86fde496a10>\u001b[0m in \u001b[0;36m<module>\u001b[0;34m\u001b[0m\n\u001b[1;32m      2\u001b[0m \u001b[0mB\u001b[0m \u001b[0;34m=\u001b[0m \u001b[0;34m[\u001b[0m\u001b[0;34m]\u001b[0m\u001b[0;34m\u001b[0m\u001b[0;34m\u001b[0m\u001b[0m\n\u001b[1;32m      3\u001b[0m \u001b[0;32mfor\u001b[0m \u001b[0mi\u001b[0m \u001b[0;32min\u001b[0m \u001b[0mA\u001b[0m\u001b[0;34m:\u001b[0m\u001b[0;34m\u001b[0m\u001b[0;34m\u001b[0m\u001b[0m\n\u001b[0;32m----> 4\u001b[0;31m     \u001b[0mi\u001b[0m \u001b[0;34m=\u001b[0m \u001b[0mlist\u001b[0m\u001b[0;34m[\u001b[0m\u001b[0mi\u001b[0m\u001b[0;34m]\u001b[0m\u001b[0;34m\u001b[0m\u001b[0;34m\u001b[0m\u001b[0m\n\u001b[0m\u001b[1;32m      5\u001b[0m     \u001b[0;32mfor\u001b[0m \u001b[0mj\u001b[0m \u001b[0;32min\u001b[0m \u001b[0mi\u001b[0m\u001b[0;34m:\u001b[0m\u001b[0;34m\u001b[0m\u001b[0;34m\u001b[0m\u001b[0m\n\u001b[1;32m      6\u001b[0m         \u001b[0;32mif\u001b[0m \u001b[0mj\u001b[0m\u001b[0;34m==\u001b[0m\u001b[0;36m5\u001b[0m\u001b[0;34m:\u001b[0m\u001b[0;34m\u001b[0m\u001b[0;34m\u001b[0m\u001b[0m\n",
      "\u001b[0;31mTypeError\u001b[0m: 'type' object is not subscriptable"
     ]
    }
   ],
   "source": [
    "A = [4628, 235, 102, 503, 715, 246, 810, 307, 6429, 7253]\n",
    "B = []\n",
    "for i in A:\n",
    "    i = list[i]\n",
    "    for j in i:\n",
    "        if j==5:\n",
    "            append.B(j)\n",
    "    print (B)\n"
   ]
  },
  {
   "cell_type": "code",
   "execution_count": 14,
   "id": "77286a2a",
   "metadata": {},
   "outputs": [
    {
     "name": "stdout",
     "output_type": "stream",
     "text": [
      "Please enter a string: dgj\n",
      "Please enter a string: fdg\n",
      "Please enter a string: fdd\n",
      "Please enter a string: jhfls\n",
      "['dgj', 'fdg', 'fdd']\n"
     ]
    }
   ],
   "source": [
    "A= []\n",
    "entry= input (\"Please enter a string: \")\n",
    "while len(entry)< 5:\n",
    "    A.append (entry)\n",
    "    entry= input (\"Please enter a string: \")\n",
    "print (A)"
   ]
  },
  {
   "cell_type": "code",
   "execution_count": 16,
   "id": "e450f43a",
   "metadata": {},
   "outputs": [
    {
     "name": "stdout",
     "output_type": "stream",
     "text": [
      "Please enter a string: ahdg\n",
      "[]\n"
     ]
    }
   ],
   "source": [
    "A= []\n",
    "entry= input (\"Please enter a string: \")\n",
    "B=[\"a\", \"e\", \"i\", \"o\", \"u\"]\n",
    "for i in A:\n",
    "    if j in i in B:\n",
    "        A.append (entry)\n",
    "        entry= input (\"Please enter a string: \")\n",
    "print (A)"
   ]
  },
  {
   "cell_type": "code",
   "execution_count": null,
   "id": "d378b435",
   "metadata": {},
   "outputs": [],
   "source": []
  }
 ],
 "metadata": {
  "kernelspec": {
   "display_name": "Python 3",
   "language": "python",
   "name": "python3"
  },
  "language_info": {
   "codemirror_mode": {
    "name": "ipython",
    "version": 3
   },
   "file_extension": ".py",
   "mimetype": "text/x-python",
   "name": "python",
   "nbconvert_exporter": "python",
   "pygments_lexer": "ipython3",
   "version": "3.8.8"
  }
 },
 "nbformat": 4,
 "nbformat_minor": 5
}
