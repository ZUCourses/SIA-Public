{
 "cells": [
  {
   "cell_type": "markdown",
   "id": "0282983e",
   "metadata": {},
   "source": [
    "Write a Python function that reads a sequence of strings from the user and stores it in a list named 'strings_from_user.' The reading process should continue until the user enters a string that has more than 5 characters. Once this happens, the string reading process is stopped, and the list  'strings_from_user' is returned. "
   ]
  },
  {
   "cell_type": "code",
   "execution_count": 1,
   "id": "b0442074",
   "metadata": {},
   "outputs": [
    {
     "name": "stdout",
     "output_type": "stream",
     "text": [
      "Please enter a string: dfgh\n",
      "Please enter a string: sdgf\n",
      "Please enter a string: g\n",
      "Please enter a string: hldsasdfhl\n",
      "['dfgh', 'sdgf', 'g']\n"
     ]
    }
   ],
   "source": [
    "strings_from_user=[]\n",
    "string = input (\"Please enter a string: \")\n",
    "while len(string)<=5:\n",
    "    strings_from_user.append(string)\n",
    "    string = input (\"Please enter a string: \")\n",
    "print (strings_from_user)"
   ]
  },
  {
   "cell_type": "code",
   "execution_count": 2,
   "id": "19bb6e0b",
   "metadata": {},
   "outputs": [
    {
     "name": "stdout",
     "output_type": "stream",
     "text": [
      "Please enter a string: dsg\n",
      "Please enter a string: sdhfg\n",
      "Please enter a string: hdflas\n",
      "2\n"
     ]
    }
   ],
   "source": [
    "strings_from_user=[]\n",
    "string = input (\"Please enter a string: \")\n",
    "while len(string)<=5:\n",
    "    strings_from_user.append(string)\n",
    "    string = input (\"Please enter a string: \")\n",
    "print (len(strings_from_user))"
   ]
  },
  {
   "cell_type": "code",
   "execution_count": 3,
   "id": "2b0c6024",
   "metadata": {},
   "outputs": [
    {
     "name": "stdout",
     "output_type": "stream",
     "text": [
      "[1, 4, 3]\n"
     ]
    }
   ],
   "source": [
    "def smaller(list, x):\n",
    "    new_list=[]\n",
    "    for i in list:\n",
    "        if i < x:\n",
    "            new_list.append(i)\n",
    "    print (new_list)\n",
    "smaller([1, 4, 3, 6, 7], 5)"
   ]
  },
  {
   "cell_type": "code",
   "execution_count": null,
   "id": "7f8e41aa",
   "metadata": {},
   "outputs": [],
   "source": [
    "\n",
    "\n"
   ]
  }
 ],
 "metadata": {
  "kernelspec": {
   "display_name": "Python 3",
   "language": "python",
   "name": "python3"
  },
  "language_info": {
   "codemirror_mode": {
    "name": "ipython",
    "version": 3
   },
   "file_extension": ".py",
   "mimetype": "text/x-python",
   "name": "python",
   "nbconvert_exporter": "python",
   "pygments_lexer": "ipython3",
   "version": "3.8.8"
  }
 },
 "nbformat": 4,
 "nbformat_minor": 5
}
