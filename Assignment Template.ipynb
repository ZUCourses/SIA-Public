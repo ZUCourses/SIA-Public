{
 "cells": [
  {
   "cell_type": "markdown",
   "id": "29bc1132",
   "metadata": {},
   "source": [
    "**Important note.** For guidance on how to write in markdown, please consult [this documentation](https://jupyter-notebook.readthedocs.io/en/stable/examples/Notebook/Working%20With%20Markdown%20Cells.html)."
   ]
  },
  {
   "cell_type": "markdown",
   "id": "9eaca838",
   "metadata": {},
   "source": [
    "**1. ALGORITHM**"
   ]
  },
  {
   "cell_type": "markdown",
   "id": "58ccfe21",
   "metadata": {},
   "source": [
    "For each question, you need to include the step-by-step algorithm. You can then choose to submit either a pseudocode OR a flowchart to accompany your step-by-step algorithm."
   ]
  },
  {
   "cell_type": "markdown",
   "id": "460daa13",
   "metadata": {},
   "source": [
    "WRITE YOUR STEP-BY-STEP ALGORITHM HERE"
   ]
  },
  {
   "cell_type": "markdown",
   "id": "0c4f5868",
   "metadata": {},
   "source": [
    "**1.1 Pseudocode**"
   ]
  },
  {
   "cell_type": "markdown",
   "id": "f519a840",
   "metadata": {},
   "source": [
    "WRITE YOUR PSEUDOCODE HERE"
   ]
  },
  {
   "cell_type": "markdown",
   "id": "5ed0be30",
   "metadata": {},
   "source": [
    "**1.2 Flowchart**"
   ]
  },
  {
   "cell_type": "markdown",
   "id": "97f0722f",
   "metadata": {},
   "source": [
    "Include the flowchart for your diagram here."
   ]
  },
  {
   "cell_type": "markdown",
   "id": "d5a6167b",
   "metadata": {},
   "source": [
    "**NOTE:** Let \"my_image.png\" be an image which is in the same directory as your jupyter notebook. If you would like to include that image on this notebook, then you can simply write in a code cell:"
   ]
  },
  {
   "cell_type": "code",
   "execution_count": null,
   "id": "bb304c7c",
   "metadata": {},
   "outputs": [],
   "source": [
    "from IPython.display import Image\n",
    "Image(\"my_image.png\")"
   ]
  },
  {
   "cell_type": "markdown",
   "id": "7f80c2d2",
   "metadata": {},
   "source": [
    "**2. CODE**"
   ]
  },
  {
   "cell_type": "code",
   "execution_count": null,
   "id": "f8937919",
   "metadata": {},
   "outputs": [],
   "source": [
    "#include HERE the code"
   ]
  },
  {
   "cell_type": "markdown",
   "id": "93a7654d",
   "metadata": {},
   "source": [
    "**2.1 Test Cases**"
   ]
  },
  {
   "cell_type": "code",
   "execution_count": null,
   "id": "0cf67426",
   "metadata": {},
   "outputs": [],
   "source": [
    "# demonstrate the correctness of your code by showing it works as intended on a number of well-identified test cases"
   ]
  },
  {
   "cell_type": "markdown",
   "id": "56928910",
   "metadata": {},
   "source": [
    "**2.2 Additional Code Description**"
   ]
  },
  {
   "cell_type": "markdown",
   "id": "3a594ba0",
   "metadata": {},
   "source": [
    "Include any other details of your algorithmic approach or any other points here."
   ]
  },
  {
   "cell_type": "markdown",
   "id": "d9beabd8",
   "metadata": {},
   "source": [
    "**3. REFERENCES**"
   ]
  },
  {
   "cell_type": "markdown",
   "id": "92ad9f94",
   "metadata": {},
   "source": [
    "INCLUDE YOUR REFERENCES HERE"
   ]
  },
  {
   "cell_type": "code",
   "execution_count": null,
   "id": "b069ecdc",
   "metadata": {},
   "outputs": [],
   "source": []
  }
 ],
 "metadata": {
  "kernelspec": {
   "display_name": "Python 3",
   "language": "python",
   "name": "python3"
  },
  "language_info": {
   "codemirror_mode": {
    "name": "ipython",
    "version": 3
   },
   "file_extension": ".py",
   "mimetype": "text/x-python",
   "name": "python",
   "nbconvert_exporter": "python",
   "pygments_lexer": "ipython3",
   "version": "3.8.8"
  }
 },
 "nbformat": 4,
 "nbformat_minor": 5
}
